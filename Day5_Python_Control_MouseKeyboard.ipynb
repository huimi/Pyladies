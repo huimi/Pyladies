{
 "cells": [
  {
   "cell_type": "markdown",
   "metadata": {
    "slideshow": {
     "slide_type": "slide"
    }
   },
   "source": [
    "# Day 5\n",
    "# Python Control Mouse & Keyboard\n",
    "<br>\n",
    "<br>\n",
    "<br>\n",
    "---\n",
    "<h2 align=\"right\">Olly&Lan</h2>\n"
   ]
  },
  {
   "cell_type": "markdown",
   "metadata": {
    "slideshow": {
     "slide_type": "subslide"
    }
   },
   "source": [
    "# Book\n",
    "<img src='https://automatetheboringstuff.com/images/automate_cover_medium.png' height=\"150\"></img>\n",
    "\n",
    "* Automate the Boring Stuff with Python\n",
    "    * [Translated Book](https://www.tenlong.com.tw/products/9789864762729)\n",
    "    * [Online eBook](https://automatetheboringstuff.com/)\n",
    "    * [Online Course -Udemy](https://softnshare.wordpress.com/2016/11/23/automateboringstuffwithpython/)\n",
    "* Environment require Python 3.4+"
   ]
  },
  {
   "cell_type": "markdown",
   "metadata": {
    "slideshow": {
     "slide_type": "subslide"
    }
   },
   "source": [
    "# Contents:\n",
    "\n",
    "### 1. [Basic python](https://github.com/iamshihshan/PyOllyTutorial/blob/master/01_Basic%20Python.ipynb)\n",
    "* Statement Assignment\n",
    "* print()\n",
    "* str()\n",
    "* for i in range(n)\n",
    "* try: & exception:\n",
    "\n",
    "### 2. Third-party modules\n",
    "* [pyautogui](https://pyautogui.readthedocs.io/en/latest/)\n",
    "* [time](https://docs.python.org/3.5/library/time.html)"
   ]
  },
  {
   "cell_type": "markdown",
   "metadata": {
    "slideshow": {
     "slide_type": "subslide"
    }
   },
   "source": [
    "# Install pyautogui Module\n",
    "### If you have native python you can install module as  below :\n",
    "```cmd\n",
    "pip install pyautogui\n",
    "```\n",
    "\n",
    "### If you use conda you can install module as below :\n",
    "```cmd\n",
    "conda install -c conda-forge pyautogui\n",
    "```\n",
    "<img src=\"Img/install_mac.png\" height=\"50\" width=\"600\"></img>\n"
   ]
  },
  {
   "cell_type": "markdown",
   "metadata": {
    "slideshow": {
     "slide_type": "subslide"
    }
   },
   "source": [
    "# Check Modules Exist\n",
    "### You don't need to install time, because time is in [standard library](https://docs.python.org/3//library/index.html).\n",
    "### Without Error Massage!!\n",
    "\n",
    "```Python\n",
    "import pyautogui\n",
    "import time\n",
    "```"
   ]
  },
  {
   "cell_type": "markdown",
   "metadata": {
    "slideshow": {
     "slide_type": "subslide"
    }
   },
   "source": [
    "# Let's Start!"
   ]
  },
  {
   "cell_type": "markdown",
   "metadata": {
    "slideshow": {
     "slide_type": "slide"
    }
   },
   "source": [
    "# pyautogui Module"
   ]
  },
  {
   "cell_type": "markdown",
   "metadata": {
    "slideshow": {
     "slide_type": "fragment"
    }
   },
   "source": [
    "* PyAutoGUI can simulate \n",
    "    * moving the mouse\n",
    "    * clicking the mouse\n",
    "    * dragging with the mouse\n",
    "    * pressing keys\n",
    "    * pressing and holding keys\n",
    "    * pressing keyboard hotkey combinations."
   ]
  },
  {
   "cell_type": "markdown",
   "metadata": {
    "slideshow": {
     "slide_type": "subslide"
    }
   },
   "source": [
    "# If pyautogui Too Fast/Out of Control\n",
    "* Shutting down everything by logging out\n",
    "\n",
    "# How to Prevent\n",
    "* Wait **n** seconds for each PyAutoGUI function call \n",
    "* Moving the mouse cursor to the **upper-left corner of the screen** will raise the *pyautogui.FailSafeException*\n",
    "```Python\n",
    "import pyautogui\n",
    "pyautogui.PAUSE = 1 #default 0.1s\n",
    "pyautogui.FAILSAFE = True #default True\n",
    "```\n"
   ]
  },
  {
   "cell_type": "markdown",
   "metadata": {
    "slideshow": {
     "slide_type": "slide"
    }
   },
   "source": [
    "# Controlling Mouse Movement"
   ]
  },
  {
   "cell_type": "markdown",
   "metadata": {
    "slideshow": {
     "slide_type": "subslide"
    }
   },
   "source": [
    "# Find Cursor Location\n",
    "* The upper-left corner of the screen (x, y) = (0, 0)\n",
    "* The x coordinate increases going to right, and the y coordinate increases going down\n",
    "* All coordinates are positive integers\n",
    "<img src=\"Img/monitor_coordinate.jpg\" height=\"50\" width=\"350\"></img>"
   ]
  },
  {
   "cell_type": "markdown",
   "metadata": {
    "slideshow": {
     "slide_type": "subslide"
    }
   },
   "source": [
    "# Screen Size and on the Screen\n",
    "\n",
    "* Return tuple of integer: (width, height) for size of your main monitor\n",
    "```Python\n",
    "pyautogui.size()\n",
    "```\n",
    "\n",
    "* Check if XY coordinates are on the screen\n",
    "```python\n",
    "pyautogui.onScreen(x, y)\n",
    "```"
   ]
  },
  {
   "cell_type": "code",
   "execution_count": 2,
   "metadata": {
    "slideshow": {
     "slide_type": "-"
    }
   },
   "outputs": [
    {
     "name": "stdout",
     "output_type": "stream",
     "text": [
      "(1440, 900)\n"
     ]
    },
    {
     "data": {
      "text/plain": [
       "False"
      ]
     },
     "execution_count": 2,
     "metadata": {},
     "output_type": "execute_result"
    }
   ],
   "source": [
    "import pyautogui\n",
    "print(pyautogui.size())\n",
    "pyautogui.onScreen(0,1000)"
   ]
  },
  {
   "cell_type": "markdown",
   "metadata": {
    "slideshow": {
     "slide_type": "-"
    }
   },
   "source": [
    "### Store the width and height as variables for better readability in your programs"
   ]
  },
  {
   "cell_type": "code",
   "execution_count": 12,
   "metadata": {
    "slideshow": {
     "slide_type": "-"
    }
   },
   "outputs": [],
   "source": [
    "width, height = pyautogui.size()"
   ]
  },
  {
   "cell_type": "markdown",
   "metadata": {
    "slideshow": {
     "slide_type": "subslide"
    }
   },
   "source": [
    "# Moving the Mouse"
   ]
  },
  {
   "cell_type": "markdown",
   "metadata": {
    "slideshow": {
     "slide_type": "-"
    }
   },
   "source": [
    "```python\n",
    "pyautogui.moveTo(x, y, duration=seconds) \n",
    "#If 0, then the mouse cursor is moved instantaneously. 0.0 by default.\n",
    "pyautogui.moveRel(xOffset, yOffset, duration=seconds)\n",
    "```\n",
    "* duration: The amount of time it takes to move the mouse cursor to the new xy coordinates."
   ]
  },
  {
   "cell_type": "code",
   "execution_count": 21,
   "metadata": {
    "slideshow": {
     "slide_type": "-"
    }
   },
   "outputs": [],
   "source": [
    "for i in range(5):\n",
    "    pyautogui.moveTo(100, 100, duration=0.25)\n",
    "    pyautogui.moveTo(200, 100, duration=0.25)\n",
    "    pyautogui.moveTo(200, 200, duration=0.25)\n",
    "    pyautogui.moveTo(100, 200, duration=0.25)"
   ]
  },
  {
   "cell_type": "code",
   "execution_count": 3,
   "metadata": {
    "slideshow": {
     "slide_type": "-"
    }
   },
   "outputs": [],
   "source": [
    "for i in range(5):\n",
    "    pyautogui.moveRel(100, 0, duration=0.25)\n",
    "    pyautogui.moveRel(0, 100, duration=0.25)\n",
    "    pyautogui.moveRel(-100, 0, duration=0.25)\n",
    "    pyautogui.moveRel(0, -100, duration=0.25)"
   ]
  },
  {
   "cell_type": "markdown",
   "metadata": {
    "slideshow": {
     "slide_type": "subslide"
    }
   },
   "source": [
    "# Getting the Mouse Position"
   ]
  },
  {
   "cell_type": "markdown",
   "metadata": {
    "slideshow": {
     "slide_type": "-"
    }
   },
   "source": [
    "```python\n",
    "pyautogui.position()\n",
    "```\n",
    "### Return x and y of your cursor on screen now"
   ]
  },
  {
   "cell_type": "code",
   "execution_count": 2,
   "metadata": {
    "slideshow": {
     "slide_type": "-"
    }
   },
   "outputs": [
    {
     "data": {
      "text/plain": [
       "(326, 223)"
      ]
     },
     "execution_count": 2,
     "metadata": {},
     "output_type": "execute_result"
    }
   ],
   "source": [
    "pyautogui.position()"
   ]
  },
  {
   "cell_type": "markdown",
   "metadata": {
    "slideshow": {
     "slide_type": "subslide"
    }
   },
   "source": [
    "# Project : “Where Is the Mouse Right Now?”"
   ]
  },
  {
   "cell_type": "markdown",
   "metadata": {
    "slideshow": {
     "slide_type": "fragment"
    }
   },
   "source": [
    "### Aim :\n",
    "* Display the current x and y coordinate of the mouse cursor.\n",
    "* Update these coordinates as the mouse moves around the screen."
   ]
  },
  {
   "cell_type": "markdown",
   "metadata": {
    "slideshow": {
     "slide_type": "fragment"
    }
   },
   "source": [
    "### Demo\n",
    "<img src=\"Img/whereIsMouse.png\" height=\"300\" width=\"540\"></img>"
   ]
  },
  {
   "cell_type": "markdown",
   "metadata": {
    "slideshow": {
     "slide_type": "subslide"
    }
   },
   "source": [
    "### Step 1: Import the Module\n",
    "### Step 2: Set Up the Quit Code and Infinite Loop\n",
    "### Step 3: Get and Print the Mouse Coordinates"
   ]
  },
  {
   "cell_type": "markdown",
   "metadata": {
    "slideshow": {
     "slide_type": "subslide"
    }
   },
   "source": [
    "# Step 1: Import the Module"
   ]
  },
  {
   "cell_type": "code",
   "execution_count": 5,
   "metadata": {
    "slideshow": {
     "slide_type": "-"
    }
   },
   "outputs": [
    {
     "name": "stdout",
     "output_type": "stream",
     "text": [
      "Press Ctrl-C to quit.\n"
     ]
    }
   ],
   "source": [
    "import pyautogui\n",
    "print('Press Ctrl-C to quit.')"
   ]
  },
  {
   "cell_type": "markdown",
   "metadata": {
    "slideshow": {
     "slide_type": "-"
    }
   },
   "source": [
    "# Step 2: Set Up the Quit Code and Infinite Loop"
   ]
  },
  {
   "cell_type": "code",
   "execution_count": null,
   "metadata": {
    "slideshow": {
     "slide_type": "-"
    }
   },
   "outputs": [],
   "source": [
    "try:\n",
    "    while True:\n",
    "    # TODO: Get and print the mouse coordinates.\n",
    "except KeyboardInterrupt:\n",
    "    print('\\nDone.')"
   ]
  },
  {
   "cell_type": "markdown",
   "metadata": {
    "slideshow": {
     "slide_type": "subslide"
    }
   },
   "source": [
    "# Step 3: Get and Print the Mouse Coordinates\n",
    "### To erase text, print the \\b backspace escape character"
   ]
  },
  {
   "cell_type": "code",
   "execution_count": null,
   "metadata": {
    "scrolled": true,
    "slideshow": {
     "slide_type": "fragment"
    }
   },
   "outputs": [],
   "source": [
    "x, y = pyautogui.position()\n",
    "positionStr = 'X: ' + str(x).rjust(4) + ', Y: ' + str(y).rjust(4)\n",
    "print(positionStr, end='')\n",
    "print('\\b' * len(positionStr), end='', flush=True)"
   ]
  },
  {
   "cell_type": "markdown",
   "metadata": {
    "slideshow": {
     "slide_type": "subslide"
    }
   },
   "source": [
    "# Program File\n",
    "### Please download [WhereIsMouse.py](code/WhereIsMouse.py) and execute WhereIsMouse.py in terminal.\n",
    "\n",
    "### Or execute program below on Jupyter notebook"
   ]
  },
  {
   "cell_type": "markdown",
   "metadata": {
    "slideshow": {
     "slide_type": "-"
    }
   },
   "source": [
    "```python\n",
    "from IPython.display import display, clear_output\n",
    "import pyautogui\n",
    "import time\n",
    "\n",
    "try:\n",
    "    while True:\n",
    "        # TODO: Get and print the mouse coordinates.\n",
    "        x, y = pyautogui.position()\n",
    "        positionStr = 'X: ' + str(x).rjust(4) + ', Y: ' + str(y).rjust(4)\n",
    "        display(positionStr)\n",
    "        time.sleep(0.2)\n",
    "        clear_output(wait=True)\n",
    "except:\n",
    "    print('\\nDone.')\n",
    "```"
   ]
  },
  {
   "cell_type": "markdown",
   "metadata": {
    "slideshow": {
     "slide_type": "slide"
    }
   },
   "source": [
    "# Controlling Mouse Interaction"
   ]
  },
  {
   "cell_type": "markdown",
   "metadata": {
    "slideshow": {
     "slide_type": "subslide"
    }
   },
   "source": [
    "# Clicking the Mouse"
   ]
  },
  {
   "cell_type": "markdown",
   "metadata": {
    "slideshow": {
     "slide_type": "-"
    }
   },
   "source": [
    "```python\n",
    "pyautogui.click(x, y, button='left')\n",
    "pyautogui.mouseDown(x, y, button='left')\n",
    "pyautogui.mouseUp(x, y, button='left')\n",
    "# or multiple clicks\n",
    "pyautogui.click(clicks=3, interval=0.25, button='right')\n",
    "pyautogui.doubleClick(x, y)\n",
    "```\n",
    "* Button could be left, right or middle to specify which you want"
   ]
  },
  {
   "cell_type": "code",
   "execution_count": 31,
   "metadata": {
    "slideshow": {
     "slide_type": "-"
    }
   },
   "outputs": [],
   "source": [
    "import pyautogui\n",
    "pyautogui.click(400, 300)"
   ]
  },
  {
   "cell_type": "markdown",
   "metadata": {
    "slideshow": {
     "slide_type": "-"
    }
   },
   "source": [
    "### Equal "
   ]
  },
  {
   "cell_type": "code",
   "execution_count": 25,
   "metadata": {
    "slideshow": {
     "slide_type": "-"
    }
   },
   "outputs": [],
   "source": [
    "import pyautogui\n",
    "pyautogui.mouseDown(400, 300)\n",
    "pyautogui.mouseUp(400, 300)"
   ]
  },
  {
   "cell_type": "markdown",
   "metadata": {
    "slideshow": {
     "slide_type": "subslide"
    }
   },
   "source": [
    "# Dragging the Mouse"
   ]
  },
  {
   "cell_type": "markdown",
   "metadata": {
    "slideshow": {
     "slide_type": "-"
    }
   },
   "source": [
    "```python\n",
    "pyautogui.dragTo(x, y, duration=2)\n",
    "pyautogui.dragRel(xOffset, yOffset, duration=0.25, button='right')\n",
    "```"
   ]
  },
  {
   "cell_type": "code",
   "execution_count": 1,
   "metadata": {
    "slideshow": {
     "slide_type": "-"
    }
   },
   "outputs": [],
   "source": [
    "### demo\n",
    "import pyautogui\n",
    "#drag google chrome icon in dock\n",
    "pyautogui.moveTo(910, 880)\n",
    "pyautogui.dragTo(985, 880, duration=2)\n",
    "pyautogui.dragRel(-75, 0, duration=2)"
   ]
  },
  {
   "cell_type": "markdown",
   "metadata": {
    "collapsed": true,
    "slideshow": {
     "slide_type": "subslide"
    }
   },
   "source": [
    "# Project : “Drawing with pyautogui”"
   ]
  },
  {
   "cell_type": "markdown",
   "metadata": {
    "collapsed": true,
    "slideshow": {
     "slide_type": "fragment"
    }
   },
   "source": [
    "### Aim :\n",
    "* Create Graphic Automatically\n",
    "* Draw something by pyautogui\n",
    "<img src=\"Img/draw_on_sketch.png\" height=\"300\" width=\"540\"></img>\n",
    "\n",
    "### Demo"
   ]
  },
  {
   "cell_type": "markdown",
   "metadata": {
    "slideshow": {
     "slide_type": "subslide"
    }
   },
   "source": [
    "### During program sleep :\n",
    "### Try to move the mouse cursor over the drawing window and select pencil/brush\n",
    "\n",
    "### [Online sketch](https://sketch.io/sketchpad/)"
   ]
  },
  {
   "cell_type": "code",
   "execution_count": null,
   "metadata": {
    "slideshow": {
     "slide_type": "fragment"
    }
   },
   "outputs": [],
   "source": [
    "import pyautogui, time\n",
    "time.sleep(5)\n",
    "pyautogui.click()\n",
    "distance = 200\n",
    "while distance > 0:\n",
    "    pyautogui.dragRel(distance, 0, duration=0.2)   # move right\n",
    "    distance = distance - 5\n",
    "    pyautogui.dragRel(0, distance, duration=0.2)   # move down   \n",
    "    pyautogui.dragRel(-distance, 0, duration=0.2)  # move left\n",
    "    distance = distance - 5\n",
    "    pyautogui.dragRel(0, -distance, duration=0.2)  # move up"
   ]
  },
  {
   "cell_type": "markdown",
   "metadata": {
    "slideshow": {
     "slide_type": "subslide"
    }
   },
   "source": [
    "# Scrolling the Mouse\n",
    "### The size of a scroll unit varies for each operating system and application\n",
    "```python\n",
    "    \n",
    "pyautogui.scroll(unit)\n",
    "```"
   ]
  },
  {
   "cell_type": "code",
   "execution_count": 46,
   "metadata": {
    "slideshow": {
     "slide_type": "-"
    }
   },
   "outputs": [],
   "source": [
    "import pyautogui\n",
    "import time\n",
    "pyautogui.moveRel(0,200, duration=1)\n",
    "for i in range(3):\n",
    "    time.sleep(2)\n",
    "    pyautogui.scroll(-3)"
   ]
  },
  {
   "cell_type": "markdown",
   "metadata": {
    "slideshow": {
     "slide_type": "slide"
    }
   },
   "source": [
    "# Working with the Screen"
   ]
  },
  {
   "cell_type": "markdown",
   "metadata": {
    "slideshow": {
     "slide_type": "subslide"
    }
   },
   "source": [
    "# Getting a Screenshot"
   ]
  },
  {
   "cell_type": "markdown",
   "metadata": {
    "slideshow": {
     "slide_type": "-"
    }
   },
   "source": [
    "```python\n",
    "pyautogui.screenshot()\n",
    "pyautogui.screenshot(region=(left, top, width, height)) \n",
    "#(left, top) is the upper left corner\n",
    "```"
   ]
  },
  {
   "cell_type": "code",
   "execution_count": 4,
   "metadata": {},
   "outputs": [
    {
     "name": "stdout",
     "output_type": "stream",
     "text": [
      "/Users/huilain/Desktop/Pyladies\n"
     ]
    }
   ],
   "source": [
    "import pyautogui, time\n",
    "import os\n",
    "time.sleep(2)\n",
    "im = pyautogui.screenshot(imageFilename='screenshot.png',region=(360, 225, 720, 450))\n",
    "\n",
    "#current directory\n",
    "print(os.getcwd())"
   ]
  },
  {
   "cell_type": "markdown",
   "metadata": {
    "slideshow": {
     "slide_type": "subslide"
    }
   },
   "source": [
    "# Color of the Pixel at Coordinate in Image"
   ]
  },
  {
   "cell_type": "markdown",
   "metadata": {
    "slideshow": {
     "slide_type": "-"
    }
   },
   "source": [
    "```python\n",
    " Image.getpixel((x, y))\n",
    "```\n",
    "### Return an RGBA tuple\n",
    "1. Amount of **red** in the pixel\n",
    "2. Amount of **green** in the pixel\n",
    "3. Amount of **blue** in the pixel\n",
    "4. Amount of **alpha** in the pixel\n",
    "#### Note that the range for red, green and blue is 0-255."
   ]
  },
  {
   "cell_type": "code",
   "execution_count": 16,
   "metadata": {
    "slideshow": {
     "slide_type": "-"
    }
   },
   "outputs": [
    {
     "data": {
      "text/plain": [
       "(41, 36, 48, 255)"
      ]
     },
     "execution_count": 16,
     "metadata": {},
     "output_type": "execute_result"
    }
   ],
   "source": [
    "im.getpixel((0, 0))"
   ]
  },
  {
   "cell_type": "markdown",
   "metadata": {
    "slideshow": {
     "slide_type": "subslide"
    }
   },
   "source": [
    "# Recognize Color"
   ]
  },
  {
   "cell_type": "markdown",
   "metadata": {
    "slideshow": {
     "slide_type": "-"
    }
   },
   "source": [
    "```python\n",
    "pyautogui.pixelMatchesColor(x, y, (R, B, G))\n",
    "```\n",
    "\n",
    "### If the pixel at the given x- and y-coordinate on the screen matches the given color,\n",
    "### pixelMatchesColor() function will return True "
   ]
  },
  {
   "cell_type": "code",
   "execution_count": 17,
   "metadata": {
    "slideshow": {
     "slide_type": "-"
    }
   },
   "outputs": [
    {
     "data": {
      "text/plain": [
       "True"
      ]
     },
     "execution_count": 17,
     "metadata": {},
     "output_type": "execute_result"
    }
   ],
   "source": [
    "time.sleep(1)\n",
    "pyautogui.pixelMatchesColor(360, 225, (41, 36, 48))"
   ]
  },
  {
   "cell_type": "markdown",
   "metadata": {
    "slideshow": {
     "slide_type": "subslide"
    }
   },
   "source": [
    "# Project: \"Extending the WhereIsMouse Program\""
   ]
  },
  {
   "cell_type": "markdown",
   "metadata": {
    "slideshow": {
     "slide_type": "fragment"
    }
   },
   "source": [
    "### Aim\n",
    "* Add recognize function for WhereIsMouse program\n",
    "\n",
    "### Demo\n",
    "<img src=\"Img/whereIsMouseExtend.png\" height=\"300\" width=\"540\"></img>\n",
    "\n",
    "### [Test your color IQ](http://xritephoto.com/cool-tools)"
   ]
  },
  {
   "cell_type": "markdown",
   "metadata": {
    "slideshow": {
     "slide_type": "subslide"
    }
   },
   "source": [
    "```Python\n",
    "#! python\n",
    "import pyautogui\n",
    "print('Press Ctrl-C to quit.')\n",
    "try:\n",
    "    while True:\n",
    "        # TODO: Get and print the mouse coordinates.\n",
    "        x, y = pyautogui.position()\n",
    "        positionStr = 'X: ' + str(x).rjust(4) + ' Y: ' + str(y).rjust(4)\n",
    "        # Add Code Here!!!!!\n",
    "        # Add Code Here!!!!!\n",
    "        # Add Code Here!!!!!\n",
    "        # Add Code Here!!!!!\n",
    "        print(positionStr, end='')\n",
    "        print('\\b' * len(positionStr), end='', flush=True)\n",
    "except KeyboardInterrupt:\n",
    "    print('\\nDone.')\n",
    "```"
   ]
  },
  {
   "cell_type": "markdown",
   "metadata": {
    "slideshow": {
     "slide_type": "subslide"
    }
   },
   "source": [
    "### Download full code here [WhereIsMouse_WithRBG.py](code/WhereIsMouse_WithRBG.py)\n",
    "\n",
    "### Add below code into WhereIsMouse.py"
   ]
  },
  {
   "cell_type": "markdown",
   "metadata": {
    "slideshow": {
     "slide_type": "fragment"
    }
   },
   "source": [
    "```Python\n",
    "pixelColor = pyautogui.screenshot().getpixel((x, y))\n",
    "positionStr += ' RGB: (' + str(pixelColor[0]).rjust(3)\n",
    "positionStr += ', ' + str(pixelColor[1]).rjust(3)\n",
    "positionStr += ', ' + str(pixelColor[2]).rjust(3) + ')'\n",
    "```"
   ]
  },
  {
   "cell_type": "markdown",
   "metadata": {
    "slideshow": {
     "slide_type": "subslide"
    }
   },
   "source": [
    "# Image Recognition"
   ]
  },
  {
   "cell_type": "markdown",
   "metadata": {
    "slideshow": {
     "slide_type": "-"
    }
   },
   "source": [
    "### Use image previously taken by screenshot\n",
    "<img src=\"Img/screenshot.png\" height=\"100\" width=\"200\"></img>"
   ]
  },
  {
   "cell_type": "code",
   "execution_count": 7,
   "metadata": {
    "slideshow": {
     "slide_type": "-"
    }
   },
   "outputs": [
    {
     "data": {
      "text/plain": [
       "(10, 30, 600, 400)"
      ]
     },
     "execution_count": 7,
     "metadata": {},
     "output_type": "execute_result"
    }
   ],
   "source": [
    "import pyautogui\n",
    "import time\n",
    "time.sleep(2)\n",
    "pyautogui.locateOnScreen('Img/screenshot.png')\n",
    "#Returns (left, top, width, height) coordinate of first found instance of the image on the screen."
   ]
  },
  {
   "cell_type": "code",
   "execution_count": 9,
   "metadata": {
    "slideshow": {
     "slide_type": "-"
    }
   },
   "outputs": [
    {
     "name": "stdout",
     "output_type": "stream",
     "text": [
      "<generator object _locateAll_python at 0x11442bbf8>\n"
     ]
    },
    {
     "data": {
      "text/plain": [
       "[(10, 30, 600, 400)]"
      ]
     },
     "execution_count": 9,
     "metadata": {},
     "output_type": "execute_result"
    }
   ],
   "source": [
    "time.sleep(1)\n",
    "print(pyautogui.locateAllOnScreen('Img/screenshot.png'))\n",
    "list(pyautogui.locateAllOnScreen('Img/screenshot.png'))"
   ]
  },
  {
   "cell_type": "markdown",
   "metadata": {
    "slideshow": {
     "slide_type": "slide"
    }
   },
   "source": [
    "# Controlling the Keyboard"
   ]
  },
  {
   "cell_type": "markdown",
   "metadata": {
    "slideshow": {
     "slide_type": "subslide"
    }
   },
   "source": [
    "# Sending a String from the Keyboard"
   ]
  },
  {
   "cell_type": "markdown",
   "metadata": {
    "slideshow": {
     "slide_type": "-"
    }
   },
   "source": [
    "```python\n",
    "pyautogui.typewrite(string, seconds)\n",
    "```\n",
    "### Try to open text editor or Google Doc during program sleep, pyautogui will keyin Hello world!"
   ]
  },
  {
   "cell_type": "code",
   "execution_count": 20,
   "metadata": {
    "slideshow": {
     "slide_type": "-"
    }
   },
   "outputs": [],
   "source": [
    "import time, pyautogui\n",
    "time.sleep(10)\n",
    "pyautogui.click(100, 100)\n",
    "pyautogui.typewrite('Hello world!', 0.25)"
   ]
  },
  {
   "cell_type": "markdown",
   "metadata": {
    "slideshow": {
     "slide_type": "subslide"
    }
   },
   "source": [
    "# Key Names"
   ]
  },
  {
   "cell_type": "markdown",
   "metadata": {
    "slideshow": {
     "slide_type": "-"
    }
   },
   "source": [
    "```python\n",
    "pyautogui.typewrite(['KeyName',...], seconds)\n",
    "```\n",
    "|Keyboard Key String                                                  |Meaning                       |\n",
    "|---------------------------------------------------------------------|------------------------------|\n",
    "|'a', 'b', 'c', 'A', 'B', 'C', '1', '2', '3', '!', '@', '#', and so on|The keys for single characters|\n",
    "|'left'                                                               |The left arrow keys           |\n",
    "\n",
    "* PyAutoGUI [KEYBOARD_KEYS](https://pyautogui.readthedocs.io/en/latest/keyboard.html?highlight=typewrite#keyboard-keys)"
   ]
  },
  {
   "cell_type": "code",
   "execution_count": 2,
   "metadata": {
    "slideshow": {
     "slide_type": "-"
    }
   },
   "outputs": [],
   "source": [
    "import time, pyautogui\n",
    "time.sleep(10)\n",
    "pyautogui.click(100, 100)\n",
    "pyautogui.typewrite(['O', 'l', 'l', 'y', '!', '!', 'left', 'left', ' ', ',', 'H', 'I'], 0.25)"
   ]
  },
  {
   "cell_type": "markdown",
   "metadata": {
    "slideshow": {
     "slide_type": "subslide"
    }
   },
   "source": [
    "|Keyboard Key String           |Meaning                               |\n",
    "|------------------------------|--------------------------------------|\n",
    "|'a', 'b', 'c', 'A', 'B', 'C', '1', '2', '3', '!', '@', '#', and so on|The keys for single characters|\n",
    "|'enter' (or 'return' or '\\n')|The ENTER key|\n",
    "|'esc'|The ESC key|\n",
    "|'shiftleft', 'shiftright'|The left and right SHIFT keys|\n",
    "|'altleft', 'altright'|The left and right ALT keys|\n",
    "|'ctrlleft', 'ctrlright'|The left and right CTRL keys|\n",
    "|'tab' (or '\\t')|The TAB key|\n",
    "|'backspace', 'delete'|The BACKSPACE and DELETE keys|\n",
    "|'pageup', 'pagedown'|The PAGE UP and PAGE DOWN keys|\n",
    "|'home', 'end'|The HOME and END keys|\n",
    "|'up', 'down', 'left', 'right'|The up, down, left, and right arrow keys|"
   ]
  },
  {
   "cell_type": "markdown",
   "metadata": {
    "slideshow": {
     "slide_type": "subslide"
    }
   },
   "source": [
    "|Keyboard Key String           |Meaning                               |\n",
    "|------------------------------|--------------------------------------|\n",
    "|'f1', 'f2', 'f3', and so on|The F1 to F12 keys|\n",
    "|'volumemute', 'volumedown', 'volumeup'|The mute, volume down, and volume up keys (some keyboards do not have these keys, but your operating system will still be able to understand these simulated keypresses)|\n",
    "|'pause'|The PAUSE key|\n",
    "|'capslock', 'numlock', 'scrolllock'|The CAPS LOCK, NUM LOCK, and SCROLL LOCK keys|\n",
    "|'insert'|The INS or INSERT key|\n",
    "|'printscreen'|The PRTSC or PRINT SCREEN key|\n",
    "|'winleft', 'winright'|The left and right WIN keys (on Windows)|\n",
    "|'command'|The Command () key (on OS X) 'option' The OPTION key (on OS X)|"
   ]
  },
  {
   "cell_type": "markdown",
   "metadata": {
    "slideshow": {
     "slide_type": "subslide"
    }
   },
   "source": [
    "# Pressing and Releasing the Keyboard"
   ]
  },
  {
   "cell_type": "markdown",
   "metadata": {
    "slideshow": {
     "slide_type": "-"
    }
   },
   "source": [
    "```python\n",
    "pyautogui.keyDown(key)\n",
    "pyautogui.keyUpd(key)\n",
    "```\n",
    "### How to hold the SHIFT key to get  \"$\"?"
   ]
  },
  {
   "cell_type": "code",
   "execution_count": 10,
   "metadata": {
    "slideshow": {
     "slide_type": "-"
    }
   },
   "outputs": [],
   "source": [
    "import time, pyautogui\n",
    "time.sleep(10)\n",
    "pyautogui.click(500, 500)\n",
    "pyautogui.keyDown('shift')\n",
    "pyautogui.press('4')\n",
    "pyautogui.keyUp('shift')"
   ]
  },
  {
   "cell_type": "markdown",
   "metadata": {
    "slideshow": {
     "slide_type": "subslide"
    }
   },
   "source": [
    "# Hotkey Combinations"
   ]
  },
  {
   "cell_type": "markdown",
   "metadata": {
    "slideshow": {
     "slide_type": "-"
    }
   },
   "source": [
    "```python\n",
    "pyautogui.hotkey('ctrl', 'c',...)\n",
    "```\n",
    "### Select ALL = Ctrl/Command + a\n",
    "### Copy = Ctrl/Command + c"
   ]
  },
  {
   "cell_type": "code",
   "execution_count": 6,
   "metadata": {
    "slideshow": {
     "slide_type": "-"
    }
   },
   "outputs": [],
   "source": [
    "import pyautogui\n",
    "pyautogui.keyDown('ctrl')\n",
    "pyautogui.keyDown('a')\n",
    "pyautogui.keyDown('c')\n",
    "pyautogui.keyUp('c')\n",
    "pyautogui.keyUp('a')\n",
    "pyautogui.keyUp('ctrl')"
   ]
  },
  {
   "cell_type": "markdown",
   "metadata": {
    "slideshow": {
     "slide_type": "-"
    }
   },
   "source": [
    "### Equal"
   ]
  },
  {
   "cell_type": "code",
   "execution_count": 7,
   "metadata": {
    "slideshow": {
     "slide_type": "-"
    }
   },
   "outputs": [],
   "source": [
    "import pyautogui\n",
    "pyautogui.hotkey('ctrl', 'a', 'c')"
   ]
  },
  {
   "cell_type": "markdown",
   "metadata": {
    "slideshow": {
     "slide_type": "subslide"
    }
   },
   "source": [
    "# Exercise"
   ]
  },
  {
   "cell_type": "markdown",
   "metadata": {
    "slideshow": {
     "slide_type": "subslide"
    }
   },
   "source": [
    "### Open browser, type in url, launch [Konami Code](https://en.wikipedia.org/wiki/Konami_Code)\n",
    "1. use subprocess module to open browser \n",
    "2. input url and remember to press enter\n",
    "3. focus on the center of screen\n",
    "4. press Konami Code"
   ]
  },
  {
   "cell_type": "markdown",
   "metadata": {},
   "source": [
    "### Answer"
   ]
  },
  {
   "cell_type": "code",
   "execution_count": 19,
   "metadata": {
    "slideshow": {
     "slide_type": "subslide"
    }
   },
   "outputs": [],
   "source": [
    "import time, pyautogui, subprocess\n",
    "subprocess.Popen(['open', '/Applications/Safari.app/'])\n",
    "time.sleep(1)\n",
    "pyautogui.typewrite('https://playoverwatch.com/zh-tw/', interval=0.25)\n",
    "pyautogui.press('enter')\n",
    "time.sleep(1)\n",
    "x, y = pyautogui.size()\n",
    "time.sleep(1)\n",
    "pyautogui.click(x/2, y/2)\n",
    "pyautogui.press(['up', 'up', 'down', 'down', 'left', 'right', 'left', 'right', 'b', 'a'], interval=0.5)"
   ]
  },
  {
   "cell_type": "markdown",
   "metadata": {
    "slideshow": {
     "slide_type": "subslide"
    }
   },
   "source": [
    "<h1 align=\"center\">def Day5End() :</h1>\n",
    "<h1 align=\"center\">&emsp;&emsp;&emsp;&emsp;&emsp;return 'Thank U ❤'</h1>"
   ]
  }
 ],
 "metadata": {
  "celltoolbar": "Slideshow",
  "kernelspec": {
   "display_name": "Python 3",
   "language": "python",
   "name": "python3"
  },
  "language_info": {
   "codemirror_mode": {
    "name": "ipython",
    "version": 3
   },
   "file_extension": ".py",
   "mimetype": "text/x-python",
   "name": "python",
   "nbconvert_exporter": "python",
   "pygments_lexer": "ipython3",
   "version": "3.7.0"
  }
 },
 "nbformat": 4,
 "nbformat_minor": 1
}
